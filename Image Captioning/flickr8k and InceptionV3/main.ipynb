{
  "nbformat": 4,
  "nbformat_minor": 0,
  "metadata": {
    "colab": {
      "provenance": [],
      "gpuType": "T4",
      "mount_file_id": "1gCQ_VHYMEybyqes8YSj12irj8TRuBvx9",
      "authorship_tag": "ABX9TyM7E9ndwWT9045XTJZw8jmd",
      "include_colab_link": true
    },
    "kernelspec": {
      "name": "python3",
      "display_name": "Python 3"
    },
    "language_info": {
      "name": "python"
    },
    "accelerator": "GPU",
    "widgets": {
      "application/vnd.jupyter.widget-state+json": {
        "915d343c1f9348c3bab58ee4c63435bc": {
          "model_module": "@jupyter-widgets/controls",
          "model_name": "HBoxModel",
          "model_module_version": "1.5.0",
          "state": {
            "_dom_classes": [],
            "_model_module": "@jupyter-widgets/controls",
            "_model_module_version": "1.5.0",
            "_model_name": "HBoxModel",
            "_view_count": null,
            "_view_module": "@jupyter-widgets/controls",
            "_view_module_version": "1.5.0",
            "_view_name": "HBoxView",
            "box_style": "",
            "children": [
              "IPY_MODEL_6ae22d0bc3c74884ae17abc293f7d2c8",
              "IPY_MODEL_0236695bff134d1188a817990e2da405",
              "IPY_MODEL_c172e4d34ee14a2a986ed128fcbaab9c"
            ],
            "layout": "IPY_MODEL_36ff98bf6d0d428c9a40d4b1c2477444"
          }
        },
        "6ae22d0bc3c74884ae17abc293f7d2c8": {
          "model_module": "@jupyter-widgets/controls",
          "model_name": "HTMLModel",
          "model_module_version": "1.5.0",
          "state": {
            "_dom_classes": [],
            "_model_module": "@jupyter-widgets/controls",
            "_model_module_version": "1.5.0",
            "_model_name": "HTMLModel",
            "_view_count": null,
            "_view_module": "@jupyter-widgets/controls",
            "_view_module_version": "1.5.0",
            "_view_name": "HTMLView",
            "description": "",
            "description_tooltip": null,
            "layout": "IPY_MODEL_5e07fb9429514c23aa1e27cea995eca9",
            "placeholder": "​",
            "style": "IPY_MODEL_1a1a0edc181142329ac3be1e961c8d4e",
            "value": "100%"
          }
        },
        "0236695bff134d1188a817990e2da405": {
          "model_module": "@jupyter-widgets/controls",
          "model_name": "FloatProgressModel",
          "model_module_version": "1.5.0",
          "state": {
            "_dom_classes": [],
            "_model_module": "@jupyter-widgets/controls",
            "_model_module_version": "1.5.0",
            "_model_name": "FloatProgressModel",
            "_view_count": null,
            "_view_module": "@jupyter-widgets/controls",
            "_view_module_version": "1.5.0",
            "_view_name": "ProgressView",
            "bar_style": "success",
            "description": "",
            "description_tooltip": null,
            "layout": "IPY_MODEL_0179a3fe70b7402796e2add320e6a1f1",
            "max": 8091,
            "min": 0,
            "orientation": "horizontal",
            "style": "IPY_MODEL_a0433b46ef6342c3a51309744e5c3c74",
            "value": 8091
          }
        },
        "c172e4d34ee14a2a986ed128fcbaab9c": {
          "model_module": "@jupyter-widgets/controls",
          "model_name": "HTMLModel",
          "model_module_version": "1.5.0",
          "state": {
            "_dom_classes": [],
            "_model_module": "@jupyter-widgets/controls",
            "_model_module_version": "1.5.0",
            "_model_name": "HTMLModel",
            "_view_count": null,
            "_view_module": "@jupyter-widgets/controls",
            "_view_module_version": "1.5.0",
            "_view_name": "HTMLView",
            "description": "",
            "description_tooltip": null,
            "layout": "IPY_MODEL_5fb7cea2f3b84502836441df2f691862",
            "placeholder": "​",
            "style": "IPY_MODEL_bc7f8e3a635d4166bea2ab1da13c4cae",
            "value": " 8091/8091 [12:27&lt;00:00, 12.85it/s]"
          }
        },
        "36ff98bf6d0d428c9a40d4b1c2477444": {
          "model_module": "@jupyter-widgets/base",
          "model_name": "LayoutModel",
          "model_module_version": "1.2.0",
          "state": {
            "_model_module": "@jupyter-widgets/base",
            "_model_module_version": "1.2.0",
            "_model_name": "LayoutModel",
            "_view_count": null,
            "_view_module": "@jupyter-widgets/base",
            "_view_module_version": "1.2.0",
            "_view_name": "LayoutView",
            "align_content": null,
            "align_items": null,
            "align_self": null,
            "border": null,
            "bottom": null,
            "display": null,
            "flex": null,
            "flex_flow": null,
            "grid_area": null,
            "grid_auto_columns": null,
            "grid_auto_flow": null,
            "grid_auto_rows": null,
            "grid_column": null,
            "grid_gap": null,
            "grid_row": null,
            "grid_template_areas": null,
            "grid_template_columns": null,
            "grid_template_rows": null,
            "height": null,
            "justify_content": null,
            "justify_items": null,
            "left": null,
            "margin": null,
            "max_height": null,
            "max_width": null,
            "min_height": null,
            "min_width": null,
            "object_fit": null,
            "object_position": null,
            "order": null,
            "overflow": null,
            "overflow_x": null,
            "overflow_y": null,
            "padding": null,
            "right": null,
            "top": null,
            "visibility": null,
            "width": null
          }
        },
        "5e07fb9429514c23aa1e27cea995eca9": {
          "model_module": "@jupyter-widgets/base",
          "model_name": "LayoutModel",
          "model_module_version": "1.2.0",
          "state": {
            "_model_module": "@jupyter-widgets/base",
            "_model_module_version": "1.2.0",
            "_model_name": "LayoutModel",
            "_view_count": null,
            "_view_module": "@jupyter-widgets/base",
            "_view_module_version": "1.2.0",
            "_view_name": "LayoutView",
            "align_content": null,
            "align_items": null,
            "align_self": null,
            "border": null,
            "bottom": null,
            "display": null,
            "flex": null,
            "flex_flow": null,
            "grid_area": null,
            "grid_auto_columns": null,
            "grid_auto_flow": null,
            "grid_auto_rows": null,
            "grid_column": null,
            "grid_gap": null,
            "grid_row": null,
            "grid_template_areas": null,
            "grid_template_columns": null,
            "grid_template_rows": null,
            "height": null,
            "justify_content": null,
            "justify_items": null,
            "left": null,
            "margin": null,
            "max_height": null,
            "max_width": null,
            "min_height": null,
            "min_width": null,
            "object_fit": null,
            "object_position": null,
            "order": null,
            "overflow": null,
            "overflow_x": null,
            "overflow_y": null,
            "padding": null,
            "right": null,
            "top": null,
            "visibility": null,
            "width": null
          }
        },
        "1a1a0edc181142329ac3be1e961c8d4e": {
          "model_module": "@jupyter-widgets/controls",
          "model_name": "DescriptionStyleModel",
          "model_module_version": "1.5.0",
          "state": {
            "_model_module": "@jupyter-widgets/controls",
            "_model_module_version": "1.5.0",
            "_model_name": "DescriptionStyleModel",
            "_view_count": null,
            "_view_module": "@jupyter-widgets/base",
            "_view_module_version": "1.2.0",
            "_view_name": "StyleView",
            "description_width": ""
          }
        },
        "0179a3fe70b7402796e2add320e6a1f1": {
          "model_module": "@jupyter-widgets/base",
          "model_name": "LayoutModel",
          "model_module_version": "1.2.0",
          "state": {
            "_model_module": "@jupyter-widgets/base",
            "_model_module_version": "1.2.0",
            "_model_name": "LayoutModel",
            "_view_count": null,
            "_view_module": "@jupyter-widgets/base",
            "_view_module_version": "1.2.0",
            "_view_name": "LayoutView",
            "align_content": null,
            "align_items": null,
            "align_self": null,
            "border": null,
            "bottom": null,
            "display": null,
            "flex": null,
            "flex_flow": null,
            "grid_area": null,
            "grid_auto_columns": null,
            "grid_auto_flow": null,
            "grid_auto_rows": null,
            "grid_column": null,
            "grid_gap": null,
            "grid_row": null,
            "grid_template_areas": null,
            "grid_template_columns": null,
            "grid_template_rows": null,
            "height": null,
            "justify_content": null,
            "justify_items": null,
            "left": null,
            "margin": null,
            "max_height": null,
            "max_width": null,
            "min_height": null,
            "min_width": null,
            "object_fit": null,
            "object_position": null,
            "order": null,
            "overflow": null,
            "overflow_x": null,
            "overflow_y": null,
            "padding": null,
            "right": null,
            "top": null,
            "visibility": null,
            "width": null
          }
        },
        "a0433b46ef6342c3a51309744e5c3c74": {
          "model_module": "@jupyter-widgets/controls",
          "model_name": "ProgressStyleModel",
          "model_module_version": "1.5.0",
          "state": {
            "_model_module": "@jupyter-widgets/controls",
            "_model_module_version": "1.5.0",
            "_model_name": "ProgressStyleModel",
            "_view_count": null,
            "_view_module": "@jupyter-widgets/base",
            "_view_module_version": "1.2.0",
            "_view_name": "StyleView",
            "bar_color": null,
            "description_width": ""
          }
        },
        "5fb7cea2f3b84502836441df2f691862": {
          "model_module": "@jupyter-widgets/base",
          "model_name": "LayoutModel",
          "model_module_version": "1.2.0",
          "state": {
            "_model_module": "@jupyter-widgets/base",
            "_model_module_version": "1.2.0",
            "_model_name": "LayoutModel",
            "_view_count": null,
            "_view_module": "@jupyter-widgets/base",
            "_view_module_version": "1.2.0",
            "_view_name": "LayoutView",
            "align_content": null,
            "align_items": null,
            "align_self": null,
            "border": null,
            "bottom": null,
            "display": null,
            "flex": null,
            "flex_flow": null,
            "grid_area": null,
            "grid_auto_columns": null,
            "grid_auto_flow": null,
            "grid_auto_rows": null,
            "grid_column": null,
            "grid_gap": null,
            "grid_row": null,
            "grid_template_areas": null,
            "grid_template_columns": null,
            "grid_template_rows": null,
            "height": null,
            "justify_content": null,
            "justify_items": null,
            "left": null,
            "margin": null,
            "max_height": null,
            "max_width": null,
            "min_height": null,
            "min_width": null,
            "object_fit": null,
            "object_position": null,
            "order": null,
            "overflow": null,
            "overflow_x": null,
            "overflow_y": null,
            "padding": null,
            "right": null,
            "top": null,
            "visibility": null,
            "width": null
          }
        },
        "bc7f8e3a635d4166bea2ab1da13c4cae": {
          "model_module": "@jupyter-widgets/controls",
          "model_name": "DescriptionStyleModel",
          "model_module_version": "1.5.0",
          "state": {
            "_model_module": "@jupyter-widgets/controls",
            "_model_module_version": "1.5.0",
            "_model_name": "DescriptionStyleModel",
            "_view_count": null,
            "_view_module": "@jupyter-widgets/base",
            "_view_module_version": "1.2.0",
            "_view_name": "StyleView",
            "description_width": ""
          }
        },
        "ca7085c0d04e49cda2ad3d3cea46e2f6": {
          "model_module": "@jupyter-widgets/controls",
          "model_name": "HBoxModel",
          "model_module_version": "1.5.0",
          "state": {
            "_dom_classes": [],
            "_model_module": "@jupyter-widgets/controls",
            "_model_module_version": "1.5.0",
            "_model_name": "HBoxModel",
            "_view_count": null,
            "_view_module": "@jupyter-widgets/controls",
            "_view_module_version": "1.5.0",
            "_view_name": "HBoxView",
            "box_style": "",
            "children": [
              "IPY_MODEL_bc3ecff4106f4b14b9b29042eda32d74",
              "IPY_MODEL_1d28cd1ed29849d2ab1b016168e701c8",
              "IPY_MODEL_bee0098cc6ce49caa3a1f7148c065646"
            ],
            "layout": "IPY_MODEL_2c556a5a422240f7b7cabf724876da1c"
          }
        },
        "bc3ecff4106f4b14b9b29042eda32d74": {
          "model_module": "@jupyter-widgets/controls",
          "model_name": "HTMLModel",
          "model_module_version": "1.5.0",
          "state": {
            "_dom_classes": [],
            "_model_module": "@jupyter-widgets/controls",
            "_model_module_version": "1.5.0",
            "_model_name": "HTMLModel",
            "_view_count": null,
            "_view_module": "@jupyter-widgets/controls",
            "_view_module_version": "1.5.0",
            "_view_name": "HTMLView",
            "description": "",
            "description_tooltip": null,
            "layout": "IPY_MODEL_5adbca3f51444d60a6155c301c31048a",
            "placeholder": "​",
            "style": "IPY_MODEL_b6654b4c9e0f43a39110a957937c2c3e",
            "value": "100%"
          }
        },
        "1d28cd1ed29849d2ab1b016168e701c8": {
          "model_module": "@jupyter-widgets/controls",
          "model_name": "FloatProgressModel",
          "model_module_version": "1.5.0",
          "state": {
            "_dom_classes": [],
            "_model_module": "@jupyter-widgets/controls",
            "_model_module_version": "1.5.0",
            "_model_name": "FloatProgressModel",
            "_view_count": null,
            "_view_module": "@jupyter-widgets/controls",
            "_view_module_version": "1.5.0",
            "_view_name": "ProgressView",
            "bar_style": "success",
            "description": "",
            "description_tooltip": null,
            "layout": "IPY_MODEL_c9bc93dfc88d4e66bcd4eb30585a404c",
            "max": 35,
            "min": 0,
            "orientation": "horizontal",
            "style": "IPY_MODEL_fbd23f7a9e9343e7add82111aa97d083",
            "value": 35
          }
        },
        "bee0098cc6ce49caa3a1f7148c065646": {
          "model_module": "@jupyter-widgets/controls",
          "model_name": "HTMLModel",
          "model_module_version": "1.5.0",
          "state": {
            "_dom_classes": [],
            "_model_module": "@jupyter-widgets/controls",
            "_model_module_version": "1.5.0",
            "_model_name": "HTMLModel",
            "_view_count": null,
            "_view_module": "@jupyter-widgets/controls",
            "_view_module_version": "1.5.0",
            "_view_name": "HTMLView",
            "description": "",
            "description_tooltip": null,
            "layout": "IPY_MODEL_95e28e27b0704cdcb1b4ff1875166140",
            "placeholder": "​",
            "style": "IPY_MODEL_a07c197d66664b4c8c974753129b127c",
            "value": " 35/35 [43:55&lt;00:00, 75.88s/it]"
          }
        },
        "2c556a5a422240f7b7cabf724876da1c": {
          "model_module": "@jupyter-widgets/base",
          "model_name": "LayoutModel",
          "model_module_version": "1.2.0",
          "state": {
            "_model_module": "@jupyter-widgets/base",
            "_model_module_version": "1.2.0",
            "_model_name": "LayoutModel",
            "_view_count": null,
            "_view_module": "@jupyter-widgets/base",
            "_view_module_version": "1.2.0",
            "_view_name": "LayoutView",
            "align_content": null,
            "align_items": null,
            "align_self": null,
            "border": null,
            "bottom": null,
            "display": null,
            "flex": null,
            "flex_flow": null,
            "grid_area": null,
            "grid_auto_columns": null,
            "grid_auto_flow": null,
            "grid_auto_rows": null,
            "grid_column": null,
            "grid_gap": null,
            "grid_row": null,
            "grid_template_areas": null,
            "grid_template_columns": null,
            "grid_template_rows": null,
            "height": null,
            "justify_content": null,
            "justify_items": null,
            "left": null,
            "margin": null,
            "max_height": null,
            "max_width": null,
            "min_height": null,
            "min_width": null,
            "object_fit": null,
            "object_position": null,
            "order": null,
            "overflow": null,
            "overflow_x": null,
            "overflow_y": null,
            "padding": null,
            "right": null,
            "top": null,
            "visibility": null,
            "width": null
          }
        },
        "5adbca3f51444d60a6155c301c31048a": {
          "model_module": "@jupyter-widgets/base",
          "model_name": "LayoutModel",
          "model_module_version": "1.2.0",
          "state": {
            "_model_module": "@jupyter-widgets/base",
            "_model_module_version": "1.2.0",
            "_model_name": "LayoutModel",
            "_view_count": null,
            "_view_module": "@jupyter-widgets/base",
            "_view_module_version": "1.2.0",
            "_view_name": "LayoutView",
            "align_content": null,
            "align_items": null,
            "align_self": null,
            "border": null,
            "bottom": null,
            "display": null,
            "flex": null,
            "flex_flow": null,
            "grid_area": null,
            "grid_auto_columns": null,
            "grid_auto_flow": null,
            "grid_auto_rows": null,
            "grid_column": null,
            "grid_gap": null,
            "grid_row": null,
            "grid_template_areas": null,
            "grid_template_columns": null,
            "grid_template_rows": null,
            "height": null,
            "justify_content": null,
            "justify_items": null,
            "left": null,
            "margin": null,
            "max_height": null,
            "max_width": null,
            "min_height": null,
            "min_width": null,
            "object_fit": null,
            "object_position": null,
            "order": null,
            "overflow": null,
            "overflow_x": null,
            "overflow_y": null,
            "padding": null,
            "right": null,
            "top": null,
            "visibility": null,
            "width": null
          }
        },
        "b6654b4c9e0f43a39110a957937c2c3e": {
          "model_module": "@jupyter-widgets/controls",
          "model_name": "DescriptionStyleModel",
          "model_module_version": "1.5.0",
          "state": {
            "_model_module": "@jupyter-widgets/controls",
            "_model_module_version": "1.5.0",
            "_model_name": "DescriptionStyleModel",
            "_view_count": null,
            "_view_module": "@jupyter-widgets/base",
            "_view_module_version": "1.2.0",
            "_view_name": "StyleView",
            "description_width": ""
          }
        },
        "c9bc93dfc88d4e66bcd4eb30585a404c": {
          "model_module": "@jupyter-widgets/base",
          "model_name": "LayoutModel",
          "model_module_version": "1.2.0",
          "state": {
            "_model_module": "@jupyter-widgets/base",
            "_model_module_version": "1.2.0",
            "_model_name": "LayoutModel",
            "_view_count": null,
            "_view_module": "@jupyter-widgets/base",
            "_view_module_version": "1.2.0",
            "_view_name": "LayoutView",
            "align_content": null,
            "align_items": null,
            "align_self": null,
            "border": null,
            "bottom": null,
            "display": null,
            "flex": null,
            "flex_flow": null,
            "grid_area": null,
            "grid_auto_columns": null,
            "grid_auto_flow": null,
            "grid_auto_rows": null,
            "grid_column": null,
            "grid_gap": null,
            "grid_row": null,
            "grid_template_areas": null,
            "grid_template_columns": null,
            "grid_template_rows": null,
            "height": null,
            "justify_content": null,
            "justify_items": null,
            "left": null,
            "margin": null,
            "max_height": null,
            "max_width": null,
            "min_height": null,
            "min_width": null,
            "object_fit": null,
            "object_position": null,
            "order": null,
            "overflow": null,
            "overflow_x": null,
            "overflow_y": null,
            "padding": null,
            "right": null,
            "top": null,
            "visibility": null,
            "width": null
          }
        },
        "fbd23f7a9e9343e7add82111aa97d083": {
          "model_module": "@jupyter-widgets/controls",
          "model_name": "ProgressStyleModel",
          "model_module_version": "1.5.0",
          "state": {
            "_model_module": "@jupyter-widgets/controls",
            "_model_module_version": "1.5.0",
            "_model_name": "ProgressStyleModel",
            "_view_count": null,
            "_view_module": "@jupyter-widgets/base",
            "_view_module_version": "1.2.0",
            "_view_name": "StyleView",
            "bar_color": null,
            "description_width": ""
          }
        },
        "95e28e27b0704cdcb1b4ff1875166140": {
          "model_module": "@jupyter-widgets/base",
          "model_name": "LayoutModel",
          "model_module_version": "1.2.0",
          "state": {
            "_model_module": "@jupyter-widgets/base",
            "_model_module_version": "1.2.0",
            "_model_name": "LayoutModel",
            "_view_count": null,
            "_view_module": "@jupyter-widgets/base",
            "_view_module_version": "1.2.0",
            "_view_name": "LayoutView",
            "align_content": null,
            "align_items": null,
            "align_self": null,
            "border": null,
            "bottom": null,
            "display": null,
            "flex": null,
            "flex_flow": null,
            "grid_area": null,
            "grid_auto_columns": null,
            "grid_auto_flow": null,
            "grid_auto_rows": null,
            "grid_column": null,
            "grid_gap": null,
            "grid_row": null,
            "grid_template_areas": null,
            "grid_template_columns": null,
            "grid_template_rows": null,
            "height": null,
            "justify_content": null,
            "justify_items": null,
            "left": null,
            "margin": null,
            "max_height": null,
            "max_width": null,
            "min_height": null,
            "min_width": null,
            "object_fit": null,
            "object_position": null,
            "order": null,
            "overflow": null,
            "overflow_x": null,
            "overflow_y": null,
            "padding": null,
            "right": null,
            "top": null,
            "visibility": null,
            "width": null
          }
        },
        "a07c197d66664b4c8c974753129b127c": {
          "model_module": "@jupyter-widgets/controls",
          "model_name": "DescriptionStyleModel",
          "model_module_version": "1.5.0",
          "state": {
            "_model_module": "@jupyter-widgets/controls",
            "_model_module_version": "1.5.0",
            "_model_name": "DescriptionStyleModel",
            "_view_count": null,
            "_view_module": "@jupyter-widgets/base",
            "_view_module_version": "1.2.0",
            "_view_name": "StyleView",
            "description_width": ""
          }
        },
        "43cbe2a3e49a4b3684cb40a5b43fdaa0": {
          "model_module": "@jupyter-widgets/controls",
          "model_name": "HBoxModel",
          "model_module_version": "1.5.0",
          "state": {
            "_dom_classes": [],
            "_model_module": "@jupyter-widgets/controls",
            "_model_module_version": "1.5.0",
            "_model_name": "HBoxModel",
            "_view_count": null,
            "_view_module": "@jupyter-widgets/controls",
            "_view_module_version": "1.5.0",
            "_view_name": "HBoxView",
            "box_style": "",
            "children": [
              "IPY_MODEL_e9de38c6e13748528fa6300bbdb4c058",
              "IPY_MODEL_a2e5b7bce7c84b2d9008eff2854c911d",
              "IPY_MODEL_849bc671c09143188f040c9a36a6e656"
            ],
            "layout": "IPY_MODEL_a0b70501f2b34156a78e39c69855f14c"
          }
        },
        "e9de38c6e13748528fa6300bbdb4c058": {
          "model_module": "@jupyter-widgets/controls",
          "model_name": "HTMLModel",
          "model_module_version": "1.5.0",
          "state": {
            "_dom_classes": [],
            "_model_module": "@jupyter-widgets/controls",
            "_model_module_version": "1.5.0",
            "_model_name": "HTMLModel",
            "_view_count": null,
            "_view_module": "@jupyter-widgets/controls",
            "_view_module_version": "1.5.0",
            "_view_name": "HTMLView",
            "description": "",
            "description_tooltip": null,
            "layout": "IPY_MODEL_4dc05731c6484ddb94d027611f59da54",
            "placeholder": "​",
            "style": "IPY_MODEL_01927495b8d74ec58d277fb990ff5908",
            "value": "100%"
          }
        },
        "a2e5b7bce7c84b2d9008eff2854c911d": {
          "model_module": "@jupyter-widgets/controls",
          "model_name": "FloatProgressModel",
          "model_module_version": "1.5.0",
          "state": {
            "_dom_classes": [],
            "_model_module": "@jupyter-widgets/controls",
            "_model_module_version": "1.5.0",
            "_model_name": "FloatProgressModel",
            "_view_count": null,
            "_view_module": "@jupyter-widgets/controls",
            "_view_module_version": "1.5.0",
            "_view_name": "ProgressView",
            "bar_style": "success",
            "description": "",
            "description_tooltip": null,
            "layout": "IPY_MODEL_396039eeb1e3484a92c54e06e9a4a975",
            "max": 40456,
            "min": 0,
            "orientation": "horizontal",
            "style": "IPY_MODEL_057996c2d27c447fae4f3b4037ac86de",
            "value": 40456
          }
        },
        "849bc671c09143188f040c9a36a6e656": {
          "model_module": "@jupyter-widgets/controls",
          "model_name": "HTMLModel",
          "model_module_version": "1.5.0",
          "state": {
            "_dom_classes": [],
            "_model_module": "@jupyter-widgets/controls",
            "_model_module_version": "1.5.0",
            "_model_name": "HTMLModel",
            "_view_count": null,
            "_view_module": "@jupyter-widgets/controls",
            "_view_module_version": "1.5.0",
            "_view_name": "HTMLView",
            "description": "",
            "description_tooltip": null,
            "layout": "IPY_MODEL_2ea457238ff34443862fb37cb45c7394",
            "placeholder": "​",
            "style": "IPY_MODEL_9025f00167744619bd366b86c2cbda47",
            "value": " 40456/40456 [00:00&lt;00:00, 119104.23it/s]"
          }
        },
        "a0b70501f2b34156a78e39c69855f14c": {
          "model_module": "@jupyter-widgets/base",
          "model_name": "LayoutModel",
          "model_module_version": "1.2.0",
          "state": {
            "_model_module": "@jupyter-widgets/base",
            "_model_module_version": "1.2.0",
            "_model_name": "LayoutModel",
            "_view_count": null,
            "_view_module": "@jupyter-widgets/base",
            "_view_module_version": "1.2.0",
            "_view_name": "LayoutView",
            "align_content": null,
            "align_items": null,
            "align_self": null,
            "border": null,
            "bottom": null,
            "display": null,
            "flex": null,
            "flex_flow": null,
            "grid_area": null,
            "grid_auto_columns": null,
            "grid_auto_flow": null,
            "grid_auto_rows": null,
            "grid_column": null,
            "grid_gap": null,
            "grid_row": null,
            "grid_template_areas": null,
            "grid_template_columns": null,
            "grid_template_rows": null,
            "height": null,
            "justify_content": null,
            "justify_items": null,
            "left": null,
            "margin": null,
            "max_height": null,
            "max_width": null,
            "min_height": null,
            "min_width": null,
            "object_fit": null,
            "object_position": null,
            "order": null,
            "overflow": null,
            "overflow_x": null,
            "overflow_y": null,
            "padding": null,
            "right": null,
            "top": null,
            "visibility": null,
            "width": null
          }
        },
        "4dc05731c6484ddb94d027611f59da54": {
          "model_module": "@jupyter-widgets/base",
          "model_name": "LayoutModel",
          "model_module_version": "1.2.0",
          "state": {
            "_model_module": "@jupyter-widgets/base",
            "_model_module_version": "1.2.0",
            "_model_name": "LayoutModel",
            "_view_count": null,
            "_view_module": "@jupyter-widgets/base",
            "_view_module_version": "1.2.0",
            "_view_name": "LayoutView",
            "align_content": null,
            "align_items": null,
            "align_self": null,
            "border": null,
            "bottom": null,
            "display": null,
            "flex": null,
            "flex_flow": null,
            "grid_area": null,
            "grid_auto_columns": null,
            "grid_auto_flow": null,
            "grid_auto_rows": null,
            "grid_column": null,
            "grid_gap": null,
            "grid_row": null,
            "grid_template_areas": null,
            "grid_template_columns": null,
            "grid_template_rows": null,
            "height": null,
            "justify_content": null,
            "justify_items": null,
            "left": null,
            "margin": null,
            "max_height": null,
            "max_width": null,
            "min_height": null,
            "min_width": null,
            "object_fit": null,
            "object_position": null,
            "order": null,
            "overflow": null,
            "overflow_x": null,
            "overflow_y": null,
            "padding": null,
            "right": null,
            "top": null,
            "visibility": null,
            "width": null
          }
        },
        "01927495b8d74ec58d277fb990ff5908": {
          "model_module": "@jupyter-widgets/controls",
          "model_name": "DescriptionStyleModel",
          "model_module_version": "1.5.0",
          "state": {
            "_model_module": "@jupyter-widgets/controls",
            "_model_module_version": "1.5.0",
            "_model_name": "DescriptionStyleModel",
            "_view_count": null,
            "_view_module": "@jupyter-widgets/base",
            "_view_module_version": "1.2.0",
            "_view_name": "StyleView",
            "description_width": ""
          }
        },
        "396039eeb1e3484a92c54e06e9a4a975": {
          "model_module": "@jupyter-widgets/base",
          "model_name": "LayoutModel",
          "model_module_version": "1.2.0",
          "state": {
            "_model_module": "@jupyter-widgets/base",
            "_model_module_version": "1.2.0",
            "_model_name": "LayoutModel",
            "_view_count": null,
            "_view_module": "@jupyter-widgets/base",
            "_view_module_version": "1.2.0",
            "_view_name": "LayoutView",
            "align_content": null,
            "align_items": null,
            "align_self": null,
            "border": null,
            "bottom": null,
            "display": null,
            "flex": null,
            "flex_flow": null,
            "grid_area": null,
            "grid_auto_columns": null,
            "grid_auto_flow": null,
            "grid_auto_rows": null,
            "grid_column": null,
            "grid_gap": null,
            "grid_row": null,
            "grid_template_areas": null,
            "grid_template_columns": null,
            "grid_template_rows": null,
            "height": null,
            "justify_content": null,
            "justify_items": null,
            "left": null,
            "margin": null,
            "max_height": null,
            "max_width": null,
            "min_height": null,
            "min_width": null,
            "object_fit": null,
            "object_position": null,
            "order": null,
            "overflow": null,
            "overflow_x": null,
            "overflow_y": null,
            "padding": null,
            "right": null,
            "top": null,
            "visibility": null,
            "width": null
          }
        },
        "057996c2d27c447fae4f3b4037ac86de": {
          "model_module": "@jupyter-widgets/controls",
          "model_name": "ProgressStyleModel",
          "model_module_version": "1.5.0",
          "state": {
            "_model_module": "@jupyter-widgets/controls",
            "_model_module_version": "1.5.0",
            "_model_name": "ProgressStyleModel",
            "_view_count": null,
            "_view_module": "@jupyter-widgets/base",
            "_view_module_version": "1.2.0",
            "_view_name": "StyleView",
            "bar_color": null,
            "description_width": ""
          }
        },
        "2ea457238ff34443862fb37cb45c7394": {
          "model_module": "@jupyter-widgets/base",
          "model_name": "LayoutModel",
          "model_module_version": "1.2.0",
          "state": {
            "_model_module": "@jupyter-widgets/base",
            "_model_module_version": "1.2.0",
            "_model_name": "LayoutModel",
            "_view_count": null,
            "_view_module": "@jupyter-widgets/base",
            "_view_module_version": "1.2.0",
            "_view_name": "LayoutView",
            "align_content": null,
            "align_items": null,
            "align_self": null,
            "border": null,
            "bottom": null,
            "display": null,
            "flex": null,
            "flex_flow": null,
            "grid_area": null,
            "grid_auto_columns": null,
            "grid_auto_flow": null,
            "grid_auto_rows": null,
            "grid_column": null,
            "grid_gap": null,
            "grid_row": null,
            "grid_template_areas": null,
            "grid_template_columns": null,
            "grid_template_rows": null,
            "height": null,
            "justify_content": null,
            "justify_items": null,
            "left": null,
            "margin": null,
            "max_height": null,
            "max_width": null,
            "min_height": null,
            "min_width": null,
            "object_fit": null,
            "object_position": null,
            "order": null,
            "overflow": null,
            "overflow_x": null,
            "overflow_y": null,
            "padding": null,
            "right": null,
            "top": null,
            "visibility": null,
            "width": null
          }
        },
        "9025f00167744619bd366b86c2cbda47": {
          "model_module": "@jupyter-widgets/controls",
          "model_name": "DescriptionStyleModel",
          "model_module_version": "1.5.0",
          "state": {
            "_model_module": "@jupyter-widgets/controls",
            "_model_module_version": "1.5.0",
            "_model_name": "DescriptionStyleModel",
            "_view_count": null,
            "_view_module": "@jupyter-widgets/base",
            "_view_module_version": "1.2.0",
            "_view_name": "StyleView",
            "description_width": ""
          }
        }
      }
    }
  },
  "cells": [
    {
      "cell_type": "markdown",
      "metadata": {
        "id": "view-in-github",
        "colab_type": "text"
      },
      "source": [
        "<a href=\"https://colab.research.google.com/github/junaidrhmn/Deep_Learning/blob/main/Image%20Captioning/flickr8k%20and%20InceptionV3/main.ipynb\" target=\"_parent\"><img src=\"https://colab.research.google.com/assets/colab-badge.svg\" alt=\"Open In Colab\"/></a>"
      ]
    },
    {
      "cell_type": "code",
      "source": [
        "#  !pip install -q kaggle\n",
        "# from google.colab import files\n",
        "# files.upload()\n",
        "# ! mkdir ~/.kaggle\n",
        "# ! cp kaggle.json ~/.kaggle/\n",
        "# ! chmod 600 ~/.kaggle/kaggle.json"
      ],
      "metadata": {
        "id": "HRqAgXSCy22w"
      },
      "execution_count": null,
      "outputs": []
    },
    {
      "cell_type": "code",
      "source": [
        "# !kaggle datasets download -d adityajn105/flickr8k"
      ],
      "metadata": {
        "id": "vDXkf74qy2zN"
      },
      "execution_count": null,
      "outputs": []
    },
    {
      "cell_type": "code",
      "source": [
        "# !cp '/content/flickr8k.zip' '/content/drive/MyDrive'"
      ],
      "metadata": {
        "id": "E97wxtEhFD-n",
        "colab": {
          "base_uri": "https://localhost:8080/"
        },
        "outputId": "23b35620-b993-4b30-e5f3-b90aa2692fab"
      },
      "execution_count": null,
      "outputs": [
        {
          "output_type": "stream",
          "name": "stdout",
          "text": [
            "cp: cannot stat '/content/flickr8k.zip': No such file or directory\n"
          ]
        }
      ]
    },
    {
      "cell_type": "code",
      "source": [
        "!cp /content/drive/MyDrive/flickr8k.zip /content"
      ],
      "metadata": {
        "id": "GKMwULGnLuQn"
      },
      "execution_count": null,
      "outputs": []
    },
    {
      "cell_type": "code",
      "source": [
        "# !cp '/content/flickr8k/captions.txt' '/content/drive/MyDrive/dl .hs files/flick8k inceptionv3 image captioning'"
      ],
      "metadata": {
        "id": "NrSSk38Y_Bow"
      },
      "execution_count": null,
      "outputs": []
    },
    {
      "cell_type": "code",
      "source": [
        "!mkdir flickr8k"
      ],
      "metadata": {
        "id": "1Xs4VQCN0lKT"
      },
      "execution_count": 1,
      "outputs": []
    },
    {
      "cell_type": "code",
      "source": [
        "!unzip '/content/flickr8k.zip' -d '/content/flickr8k'"
      ],
      "metadata": {
        "id": "0P1Fh-EjLTaw",
        "colab": {
          "base_uri": "https://localhost:8080/"
        },
        "outputId": "8da75ccb-e530-443a-8e1d-dd622551b58b"
      },
      "execution_count": null,
      "outputs": [
        {
          "output_type": "stream",
          "name": "stdout",
          "text": [
            "Archive:  /content/flickr8k.zip\n",
            "replace /content/flickr8k/Images/1000268201_693b08cb0e.jpg? [y]es, [n]o, [A]ll, [N]one, [r]ename: N\n"
          ]
        }
      ]
    },
    {
      "cell_type": "markdown",
      "source": [
        "**Importing**"
      ],
      "metadata": {
        "id": "gqa2nZCA8F1b"
      }
    },
    {
      "cell_type": "code",
      "source": [
        "import os\n",
        "import pickle\n",
        "from tqdm.notebook import tqdm\n",
        "from matplotlib import pyplot as plt\n",
        "import numpy as np\n",
        "import pandas as pd\n",
        "import tensorflow as tf\n",
        "from tensorflow.keras.preprocessing.text import Tokenizer\n",
        "from tensorflow.keras.preprocessing.sequence import pad_sequences\n",
        "from tensorflow.keras.preprocessing.image import load_img, img_to_array\n",
        "from tensorflow.keras.applications.inception_v3 import InceptionV3, preprocess_input\n",
        "from tensorflow.keras.layers import Input, Dense, RepeatVector, Concatenate, Activation\n",
        "from tensorflow.keras.layers import LSTM, Embedding, Dropout, add\n",
        "from tensorflow.keras.utils import to_categorical, plot_model\n",
        "from tensorflow.keras.models import load_model, Model\n",
        "from tensorflow.keras.optimizers import Adam"
      ],
      "metadata": {
        "id": "VhfQe4m0oUJD"
      },
      "execution_count": 2,
      "outputs": []
    },
    {
      "cell_type": "code",
      "source": [
        "data_dir = '/content/flickr8k'\n",
        "images_dir = os.path.join(data_dir, 'Images')\n",
        "caption_file = os.path.join(data_dir, 'captions.txt')"
      ],
      "metadata": {
        "id": "_xjSQ1Jm1Lme"
      },
      "execution_count": null,
      "outputs": []
    },
    {
      "cell_type": "code",
      "source": [
        "# Create InceptionV3 model without the final classification layer\n",
        "inception_model = InceptionV3(weights='imagenet')\n",
        "inception_model = Model(inputs=inception_model.input, outputs=inception_model.layers[-2].output)\n",
        "inception_model.summary()"
      ],
      "metadata": {
        "id": "q8uXextHG1r2"
      },
      "execution_count": null,
      "outputs": []
    },
    {
      "cell_type": "code",
      "source": [
        "img_features = {}\n",
        "\n",
        "for img_name in tqdm(os.listdir(images_dir)):\n",
        "  img_path = os.path.join(images_dir,img_name)\n",
        "  img = load_img(img_path, target_size=(299,299), color_mode = 'rgb')\n",
        "  img = img_to_array(img)\n",
        "  img = preprocess_input(img)\n",
        "  img = img.reshape((1, 299, 299, 3))\n",
        "  feature = inception_model.predict(img, verbose=0)\n",
        "  img_features[img_name] = feature"
      ],
      "metadata": {
        "colab": {
          "base_uri": "https://localhost:8080/",
          "height": 49,
          "referenced_widgets": [
            "915d343c1f9348c3bab58ee4c63435bc",
            "6ae22d0bc3c74884ae17abc293f7d2c8",
            "0236695bff134d1188a817990e2da405",
            "c172e4d34ee14a2a986ed128fcbaab9c",
            "36ff98bf6d0d428c9a40d4b1c2477444",
            "5e07fb9429514c23aa1e27cea995eca9",
            "1a1a0edc181142329ac3be1e961c8d4e",
            "0179a3fe70b7402796e2add320e6a1f1",
            "a0433b46ef6342c3a51309744e5c3c74",
            "5fb7cea2f3b84502836441df2f691862",
            "bc7f8e3a635d4166bea2ab1da13c4cae"
          ]
        },
        "id": "zy3bqjPUEsPf",
        "outputId": "57068e49-cb2a-466e-bea3-8179c91db24a"
      },
      "execution_count": null,
      "outputs": [
        {
          "output_type": "display_data",
          "data": {
            "text/plain": [
              "  0%|          | 0/8091 [00:00<?, ?it/s]"
            ],
            "application/vnd.jupyter.widget-view+json": {
              "version_major": 2,
              "version_minor": 0,
              "model_id": "915d343c1f9348c3bab58ee4c63435bc"
            }
          },
          "metadata": {}
        }
      ]
    },
    {
      "cell_type": "code",
      "source": [
        "# Save img_features using pickle\n",
        "with open('/content/drive/MyDrive/dl .hs files/flick8k inceptionv3 image captioning/img_features.pkl', 'wb') as f:\n",
        "    pickle.dump(img_features, f)\n"
      ],
      "metadata": {
        "id": "Bk7vsxyXK92j"
      },
      "execution_count": null,
      "outputs": []
    },
    {
      "cell_type": "code",
      "source": [
        "with open('/content/drive/MyDrive/dl .hs files/flick8k inceptionv3 image captioning/img_features.pkl', 'rb') as f:\n",
        "    img_features = pickle.load(f)"
      ],
      "metadata": {
        "id": "MTF4qukZLy-A"
      },
      "execution_count": 4,
      "outputs": []
    },
    {
      "cell_type": "code",
      "source": [
        "!cp '/content/drive/MyDrive/dl .hs files/flick8k inceptionv3 image captioning/captions.txt' '/content/flickr8k'"
      ],
      "metadata": {
        "id": "9JGpGhAu_NbN"
      },
      "execution_count": 5,
      "outputs": []
    },
    {
      "cell_type": "code",
      "source": [
        "with open('/content/flickr8k/captions.txt','r') as caption:\n",
        "    caption_doc = caption.read()"
      ],
      "metadata": {
        "id": "jCp-pVJgTHex"
      },
      "execution_count": 6,
      "outputs": []
    },
    {
      "cell_type": "markdown",
      "source": [
        "**remove the header from the caption**"
      ],
      "metadata": {
        "id": "vUDyH0ImVWCF"
      }
    },
    {
      "cell_type": "code",
      "source": [
        "lines = caption_doc.split('\\n')\n",
        "caption_doc = lines[1:]"
      ],
      "metadata": {
        "id": "M2MQZJFYTzRY"
      },
      "execution_count": 7,
      "outputs": []
    },
    {
      "cell_type": "code",
      "source": [
        "caption_doc[:5]"
      ],
      "metadata": {
        "id": "3KqZZWU-U6r6",
        "colab": {
          "base_uri": "https://localhost:8080/"
        },
        "outputId": "0cd99571-cb0b-4c6f-c24a-20e17359461e"
      },
      "execution_count": 8,
      "outputs": [
        {
          "output_type": "execute_result",
          "data": {
            "text/plain": [
              "['1000268201_693b08cb0e.jpg,A child in a pink dress is climbing up a set of stairs in an entry way .',\n",
              " '1000268201_693b08cb0e.jpg,A girl going into a wooden building .',\n",
              " '1000268201_693b08cb0e.jpg,A little girl climbing into a wooden playhouse .',\n",
              " '1000268201_693b08cb0e.jpg,A little girl climbing the stairs to her playhouse .',\n",
              " '1000268201_693b08cb0e.jpg,A little girl in a pink dress going into a wooden cabin .']"
            ]
          },
          "metadata": {},
          "execution_count": 8
        }
      ]
    },
    {
      "cell_type": "code",
      "source": [
        "import re\n",
        "\n",
        "caption_dict = {}\n",
        "\n",
        "for line in tqdm(caption_doc):\n",
        "    tokens = line.split(',')\n",
        "\n",
        "    if len(tokens) < 2:\n",
        "        continue\n",
        "\n",
        "    img_name, caption = tokens[0], tokens[1]\n",
        "\n",
        "    # Preprocess the caption\n",
        "    caption = caption.lower()\n",
        "    caption = re.sub(r'[^a-z ]', '', caption)\n",
        "    caption = re.sub(r'\\s+', ' ', caption).strip()\n",
        "    caption = 'startseq' + ' ' + caption + ' ' + 'endseq'\n",
        "\n",
        "    if img_name not in caption_dict:\n",
        "        caption_dict[img_name] = []\n",
        "    caption_dict[img_name].append(caption)"
      ],
      "metadata": {
        "colab": {
          "base_uri": "https://localhost:8080/",
          "height": 49,
          "referenced_widgets": [
            "43cbe2a3e49a4b3684cb40a5b43fdaa0",
            "e9de38c6e13748528fa6300bbdb4c058",
            "a2e5b7bce7c84b2d9008eff2854c911d",
            "849bc671c09143188f040c9a36a6e656",
            "a0b70501f2b34156a78e39c69855f14c",
            "4dc05731c6484ddb94d027611f59da54",
            "01927495b8d74ec58d277fb990ff5908",
            "396039eeb1e3484a92c54e06e9a4a975",
            "057996c2d27c447fae4f3b4037ac86de",
            "2ea457238ff34443862fb37cb45c7394",
            "9025f00167744619bd366b86c2cbda47"
          ]
        },
        "id": "sQA40DPsSiEU",
        "outputId": "37b7fe57-3be7-4d66-e0ff-4908840241ef"
      },
      "execution_count": 9,
      "outputs": [
        {
          "output_type": "display_data",
          "data": {
            "text/plain": [
              "  0%|          | 0/40456 [00:00<?, ?it/s]"
            ],
            "application/vnd.jupyter.widget-view+json": {
              "version_major": 2,
              "version_minor": 0,
              "model_id": "43cbe2a3e49a4b3684cb40a5b43fdaa0"
            }
          },
          "metadata": {}
        }
      ]
    },
    {
      "cell_type": "code",
      "source": [
        "caption_dict"
      ],
      "metadata": {
        "id": "uPywoXD0hqx0"
      },
      "execution_count": null,
      "outputs": []
    },
    {
      "cell_type": "code",
      "source": [
        "len(caption_dict)"
      ],
      "metadata": {
        "colab": {
          "base_uri": "https://localhost:8080/"
        },
        "id": "jgihnFOEhY4J",
        "outputId": "0c02e997-2524-47d9-accf-8a87c0d29451"
      },
      "execution_count": null,
      "outputs": [
        {
          "output_type": "execute_result",
          "data": {
            "text/plain": [
              "8091"
            ]
          },
          "metadata": {},
          "execution_count": 9
        }
      ]
    },
    {
      "cell_type": "markdown",
      "source": [
        "***Tokenizing***"
      ],
      "metadata": {
        "id": "gPcD-PcANt8t"
      }
    },
    {
      "cell_type": "code",
      "source": [
        "all_captions = []\n",
        "\n",
        "for key, caption in caption_dict.items():\n",
        "  for i in caption:\n",
        "    all_captions.append(i)\n",
        "\n",
        "tokenizer = Tokenizer(oov_token=\"<OOV>\")\n",
        "tokenizer.fit_on_texts(all_captions)\n",
        "vocab_size = len((tokenizer.word_index))+1\n",
        "print(vocab_size)"
      ],
      "metadata": {
        "id": "8MrDmsQUlQTG",
        "colab": {
          "base_uri": "https://localhost:8080/"
        },
        "outputId": "adda332f-84db-4baa-cae4-b4036adbe71a"
      },
      "execution_count": 10,
      "outputs": [
        {
          "output_type": "stream",
          "name": "stdout",
          "text": [
            "8589\n"
          ]
        }
      ]
    },
    {
      "cell_type": "code",
      "source": [
        "# max_length of the caption\n",
        "max_length = max(len(caption.split()) for caption in all_captions)\n",
        "max_length"
      ],
      "metadata": {
        "id": "cjiObP1lnv2P",
        "colab": {
          "base_uri": "https://localhost:8080/"
        },
        "outputId": "9d2ed243-d3ea-4f8d-861a-bb7bc995c83e"
      },
      "execution_count": 11,
      "outputs": [
        {
          "output_type": "execute_result",
          "data": {
            "text/plain": [
              "35"
            ]
          },
          "metadata": {},
          "execution_count": 11
        }
      ]
    },
    {
      "cell_type": "markdown",
      "source": [
        "**Train Test Split**"
      ],
      "metadata": {
        "id": "MOvc5ukvpReq"
      }
    },
    {
      "cell_type": "code",
      "source": [
        "img_name = list(caption_dict.keys())\n",
        "split = int(len(img_name) * 0.90)\n",
        "train = img_name[:split]\n",
        "test = img_name[split:]"
      ],
      "metadata": {
        "id": "5R2s8DG9pQdP"
      },
      "execution_count": 12,
      "outputs": []
    },
    {
      "cell_type": "code",
      "source": [
        "train"
      ],
      "metadata": {
        "id": "jM7H_aTr2P1H"
      },
      "execution_count": null,
      "outputs": []
    },
    {
      "cell_type": "code",
      "source": [
        "caption_dict['1000268201_693b08cb0e.jpg']"
      ],
      "metadata": {
        "id": "iiUv-elJtK7O",
        "colab": {
          "base_uri": "https://localhost:8080/"
        },
        "outputId": "eca2b62b-eb75-4cbd-d5cd-31a77a220010"
      },
      "execution_count": null,
      "outputs": [
        {
          "output_type": "execute_result",
          "data": {
            "text/plain": [
              "['startseq a child in a pink dress is climbing up a set of stairs in an entry way endseq',\n",
              " 'startseq a girl going into a wooden building endseq',\n",
              " 'startseq a little girl climbing into a wooden playhouse endseq',\n",
              " 'startseq a little girl climbing the stairs to her playhouse endseq',\n",
              " 'startseq a little girl in a pink dress going into a wooden cabin endseq']"
            ]
          },
          "metadata": {},
          "execution_count": 16
        }
      ]
    },
    {
      "cell_type": "code",
      "source": [
        "img_features['1000268201_693b08cb0e.jpg'][0]"
      ],
      "metadata": {
        "colab": {
          "base_uri": "https://localhost:8080/"
        },
        "id": "KbFxhjtE-EpZ",
        "outputId": "f5108990-5afb-436f-8c6b-99bacabafc88"
      },
      "execution_count": null,
      "outputs": [
        {
          "output_type": "execute_result",
          "data": {
            "text/plain": [
              "array([0.12277618, 0.33293068, 0.75272465, ..., 0.21941483, 0.30208516,\n",
              "       0.40279675], dtype=float32)"
            ]
          },
          "metadata": {},
          "execution_count": 19
        }
      ]
    },
    {
      "cell_type": "code",
      "source": [
        "# create data generator to get data in batch (avoids session crash)\n",
        "def data_generator(data, caption_dict, img_features, tokenizer, max_length, vocab_size, batch_size):\n",
        "    feature_in, caption_inp, caption_out = list(), list(), list()\n",
        "    n = 0\n",
        "    while 1:\n",
        "        for key in data:\n",
        "            n += 1\n",
        "            captions = caption_dict[key]\n",
        "            for caption in captions:\n",
        "                seq = tokenizer.texts_to_sequences([caption])[0]\n",
        "                for i in range(1, len(seq)):\n",
        "                    in_seq, out_seq = seq[:i], seq[i]\n",
        "                    in_seq = pad_sequences([in_seq], maxlen=max_length)[0]\n",
        "                    out_seq = to_categorical([out_seq], num_classes=vocab_size)[0]\n",
        "\n",
        "                    feature_in.append(img_features[key][0])\n",
        "                    caption_inp.append(in_seq)\n",
        "                    caption_out.append(out_seq)\n",
        "            if n == batch_size:\n",
        "                feature_in, caption_inp, caption_out = np.array(feature_in), np.array(caption_inp), np.array(caption_out)\n",
        "                yield [feature_in, caption_inp], caption_out\n",
        "                feature_in, caption_inp, caption_out = list(), list(), list()\n",
        "                n = 0"
      ],
      "metadata": {
        "id": "DkWs1tdVDSZE"
      },
      "execution_count": null,
      "outputs": []
    },
    {
      "cell_type": "code",
      "source": [
        "# ENCODER LAYERS\n",
        "# image feature layer\n",
        "input1 = Input(shape=(2048,))\n",
        "if1 = Dropout(0.4)(input1)\n",
        "if2 = Dense(256, activation='relu')(if1)\n",
        "\n",
        "# caption layer\n",
        "input2 = Input(shape=(max_length,))\n",
        "cg1 = Embedding(vocab_size, 256, mask_zero=True)(input2)\n",
        "cg2 = Dropout(0.4)(cg1)\n",
        "cg3 = LSTM(256)(cg2)\n",
        "\n",
        "# DECORDER LAYERS\n",
        "decoder1 = add([if2,cg3])\n",
        "decoder2 = Dense(256, activation='relu')(decoder1)\n",
        "outputs = Dense(vocab_size, activation='softmax')(decoder2)\n",
        "\n",
        "model = Model(inputs = [input1, input2], outputs=outputs)\n",
        "model.compile(loss='categorical_crossentropy',\n",
        "              optimizer='adam')\n",
        "\n",
        "plot_model(model, show_shapes=True)"
      ],
      "metadata": {
        "id": "uMHWLEO8GLf7",
        "colab": {
          "base_uri": "https://localhost:8080/",
          "height": 754
        },
        "outputId": "264d83ba-ae80-4d0b-c79f-c743df623926"
      },
      "execution_count": null,
      "outputs": [
        {
          "output_type": "execute_result",
          "data": {
            "image/png": "[encoded data removed]",
            "text/plain": [
              "<IPython.core.display.Image object>"
            ]
          },
          "metadata": {},
          "execution_count": 13
        }
      ]
    },
    {
      "cell_type": "code",
      "source": [
        "epoch = 35\n",
        "batch_size = 32\n",
        "steps = len(train) // batch_size\n",
        "\n",
        "for i in tqdm(range(epoch)):\n",
        "  generator = data_generator(train, caption_dict, img_features, tokenizer, max_length, vocab_size, batch_size)\n",
        "  model.fit(generator, epochs=1, steps_per_epoch = steps, verbose=1)\n",
        "\n",
        "model.save('/content/drive/MyDrive/dl .hs files/flick8k inceptionv3 image captioning/best_model.h5')"
      ],
      "metadata": {
        "id": "b2RGeDbbNyQD",
        "colab": {
          "base_uri": "https://localhost:8080/",
          "height": 711,
          "referenced_widgets": [
            "ca7085c0d04e49cda2ad3d3cea46e2f6",
            "bc3ecff4106f4b14b9b29042eda32d74",
            "1d28cd1ed29849d2ab1b016168e701c8",
            "bee0098cc6ce49caa3a1f7148c065646",
            "2c556a5a422240f7b7cabf724876da1c",
            "5adbca3f51444d60a6155c301c31048a",
            "b6654b4c9e0f43a39110a957937c2c3e",
            "c9bc93dfc88d4e66bcd4eb30585a404c",
            "fbd23f7a9e9343e7add82111aa97d083",
            "95e28e27b0704cdcb1b4ff1875166140",
            "a07c197d66664b4c8c974753129b127c"
          ]
        },
        "outputId": "5a293590-53d3-4732-dc3d-261c01b9cd77"
      },
      "execution_count": null,
      "outputs": [
        {
          "output_type": "display_data",
          "data": {
            "text/plain": [
              "  0%|          | 0/35 [00:00<?, ?it/s]"
            ],
            "application/vnd.jupyter.widget-view+json": {
              "version_major": 2,
              "version_minor": 0,
              "model_id": "ca7085c0d04e49cda2ad3d3cea46e2f6"
            }
          },
          "metadata": {}
        },
        {
          "output_type": "stream",
          "name": "stdout",
          "text": [
            "227/227 [==============================] - 85s 317ms/step - loss: 4.8802\n",
            "227/227 [==============================] - 63s 278ms/step - loss: 3.5887\n",
            "227/227 [==============================] - 67s 293ms/step - loss: 3.1989\n",
            "227/227 [==============================] - 66s 291ms/step - loss: 2.9769\n",
            "227/227 [==============================] - 65s 284ms/step - loss: 2.8195\n",
            "227/227 [==============================] - 65s 284ms/step - loss: 2.6961\n",
            "227/227 [==============================] - 64s 281ms/step - loss: 2.5998\n",
            "227/227 [==============================] - 64s 280ms/step - loss: 2.5203\n",
            "227/227 [==============================] - 64s 284ms/step - loss: 2.4538\n",
            "227/227 [==============================] - 64s 282ms/step - loss: 2.3856\n",
            "227/227 [==============================] - 65s 284ms/step - loss: 2.3292\n",
            "227/227 [==============================] - 65s 285ms/step - loss: 2.2786\n",
            "227/227 [==============================] - 67s 296ms/step - loss: 2.2327\n",
            "227/227 [==============================] - 64s 282ms/step - loss: 2.1858\n",
            "227/227 [==============================] - 65s 287ms/step - loss: 2.1495\n",
            "227/227 [==============================] - 64s 282ms/step - loss: 2.1123\n",
            "227/227 [==============================] - 64s 283ms/step - loss: 2.0754\n",
            "227/227 [==============================] - 64s 280ms/step - loss: 2.0437\n",
            "227/227 [==============================] - 64s 280ms/step - loss: 2.0151\n",
            "227/227 [==============================] - 63s 279ms/step - loss: 1.9917\n",
            "227/227 [==============================] - 64s 282ms/step - loss: 1.9599\n",
            "227/227 [==============================] - 65s 286ms/step - loss: 1.9367\n",
            "227/227 [==============================] - 65s 284ms/step - loss: 1.9171\n",
            "227/227 [==============================] - 68s 297ms/step - loss: 1.8906\n",
            "227/227 [==============================] - 66s 291ms/step - loss: 1.8686\n",
            "227/227 [==============================] - 66s 290ms/step - loss: 1.8498\n",
            "227/227 [==============================] - 67s 293ms/step - loss: 1.8318\n",
            "227/227 [==============================] - 66s 291ms/step - loss: 1.8128\n",
            "227/227 [==============================] - 66s 289ms/step - loss: 1.7996\n",
            "227/227 [==============================] - 66s 292ms/step - loss: 1.7847\n",
            "227/227 [==============================] - 65s 286ms/step - loss: 1.7654\n",
            "227/227 [==============================] - 66s 289ms/step - loss: 1.7495\n",
            "227/227 [==============================] - 66s 289ms/step - loss: 1.7342\n",
            "227/227 [==============================] - 67s 293ms/step - loss: 1.7204\n",
            "227/227 [==============================] - 67s 293ms/step - loss: 1.7104\n"
          ]
        },
        {
          "output_type": "stream",
          "name": "stderr",
          "text": [
            "/usr/local/lib/python3.10/dist-packages/keras/src/engine/training.py:3079: UserWarning: You are saving your model as an HDF5 file via `model.save()`. This file format is considered legacy. We recommend using instead the native Keras format, e.g. `model.save('my_model.keras')`.\n",
            "  saving_api.save_model(\n"
          ]
        }
      ]
    },
    {
      "cell_type": "code",
      "source": [
        "model = load_model('/content/drive/MyDrive/dl .hs files/flick8k inceptionv3 image captioning/best_model.h5')"
      ],
      "metadata": {
        "id": "TXLaWvat4MAb"
      },
      "execution_count": 13,
      "outputs": []
    },
    {
      "cell_type": "code",
      "source": [
        "def predict_caption(model, image, tokenizer, max_length):\n",
        "    generated_caption = 'startseq'\n",
        "\n",
        "    for i in range(max_length):\n",
        "        sequence = tokenizer.texts_to_sequences([generated_caption])[0]\n",
        "        pad = pad_sequences([sequence], maxlen=max_length)\n",
        "        word = model.predict([image, pad])\n",
        "        word_index = np.argmax(word)\n",
        "        word = tokenizer.index_word.get(word_index, None)\n",
        "\n",
        "        if word is None:\n",
        "            break\n",
        "        else:\n",
        "            generated_caption += ' ' + word\n",
        "\n",
        "        if word == 'endseq':\n",
        "            break\n",
        "\n",
        "    return generated_caption\n"
      ],
      "metadata": {
        "id": "ZUFizTjKSf91"
      },
      "execution_count": 14,
      "outputs": []
    },
    {
      "cell_type": "code",
      "source": [
        "image_path = '/content/surf.jpg'\n",
        "image = load_img(image_path, target_size=(299, 299), color_mode='rgb')\n",
        "image = img_to_array(image)\n",
        "image = preprocess_input(image)\n",
        "image = image.reshape((1, 299, 299, 3))\n",
        "\n",
        "# Extract features using the model\n",
        "feature = model.predict(image, verbose=0)\n",
        "\n",
        "# Generate caption\n",
        "caption = predict_caption(model, feature, tokenizer, max_length)\n",
        "print(caption)\n"
      ],
      "metadata": {
        "id": "Ou_lxYdr64oG",
        "colab": {
          "base_uri": "https://localhost:8080/",
          "height": 674
        },
        "outputId": "d8b86d0e-97ee-4472-cc49-4854c74896db"
      },
      "execution_count": 18,
      "outputs": [
        {
          "output_type": "error",
          "ename": "ValueError",
          "evalue": "ignored",
          "traceback": [
            "\u001b[0;31m---------------------------------------------------------------------------\u001b[0m",
            "\u001b[0;31mValueError\u001b[0m                                Traceback (most recent call last)",
            "\u001b[0;32m<ipython-input-18-321e9e175361>\u001b[0m in \u001b[0;36m<cell line: 8>\u001b[0;34m()\u001b[0m\n\u001b[1;32m      6\u001b[0m \u001b[0;34m\u001b[0m\u001b[0m\n\u001b[1;32m      7\u001b[0m \u001b[0;31m# Extract features using the model\u001b[0m\u001b[0;34m\u001b[0m\u001b[0;34m\u001b[0m\u001b[0m\n\u001b[0;32m----> 8\u001b[0;31m \u001b[0mfeature\u001b[0m \u001b[0;34m=\u001b[0m \u001b[0mmodel\u001b[0m\u001b[0;34m.\u001b[0m\u001b[0mpredict\u001b[0m\u001b[0;34m(\u001b[0m\u001b[0mimage\u001b[0m\u001b[0;34m,\u001b[0m \u001b[0mverbose\u001b[0m\u001b[0;34m=\u001b[0m\u001b[0;36m0\u001b[0m\u001b[0;34m)\u001b[0m\u001b[0;34m\u001b[0m\u001b[0;34m\u001b[0m\u001b[0m\n\u001b[0m\u001b[1;32m      9\u001b[0m \u001b[0;34m\u001b[0m\u001b[0m\n\u001b[1;32m     10\u001b[0m \u001b[0;31m# Generate caption\u001b[0m\u001b[0;34m\u001b[0m\u001b[0;34m\u001b[0m\u001b[0m\n",
            "\u001b[0;32m/usr/local/lib/python3.10/dist-packages/keras/src/utils/traceback_utils.py\u001b[0m in \u001b[0;36merror_handler\u001b[0;34m(*args, **kwargs)\u001b[0m\n\u001b[1;32m     68\u001b[0m             \u001b[0;31m# To get the full stack trace, call:\u001b[0m\u001b[0;34m\u001b[0m\u001b[0;34m\u001b[0m\u001b[0m\n\u001b[1;32m     69\u001b[0m             \u001b[0;31m# `tf.debugging.disable_traceback_filtering()`\u001b[0m\u001b[0;34m\u001b[0m\u001b[0;34m\u001b[0m\u001b[0m\n\u001b[0;32m---> 70\u001b[0;31m             \u001b[0;32mraise\u001b[0m \u001b[0me\u001b[0m\u001b[0;34m.\u001b[0m\u001b[0mwith_traceback\u001b[0m\u001b[0;34m(\u001b[0m\u001b[0mfiltered_tb\u001b[0m\u001b[0;34m)\u001b[0m \u001b[0;32mfrom\u001b[0m \u001b[0;32mNone\u001b[0m\u001b[0;34m\u001b[0m\u001b[0;34m\u001b[0m\u001b[0m\n\u001b[0m\u001b[1;32m     71\u001b[0m         \u001b[0;32mfinally\u001b[0m\u001b[0;34m:\u001b[0m\u001b[0;34m\u001b[0m\u001b[0;34m\u001b[0m\u001b[0m\n\u001b[1;32m     72\u001b[0m             \u001b[0;32mdel\u001b[0m \u001b[0mfiltered_tb\u001b[0m\u001b[0;34m\u001b[0m\u001b[0;34m\u001b[0m\u001b[0m\n",
            "\u001b[0;32m/usr/local/lib/python3.10/dist-packages/keras/src/engine/training.py\u001b[0m in \u001b[0;36mtf__predict_function\u001b[0;34m(iterator)\u001b[0m\n\u001b[1;32m     13\u001b[0m                 \u001b[0;32mtry\u001b[0m\u001b[0;34m:\u001b[0m\u001b[0;34m\u001b[0m\u001b[0;34m\u001b[0m\u001b[0m\n\u001b[1;32m     14\u001b[0m                     \u001b[0mdo_return\u001b[0m \u001b[0;34m=\u001b[0m \u001b[0;32mTrue\u001b[0m\u001b[0;34m\u001b[0m\u001b[0;34m\u001b[0m\u001b[0m\n\u001b[0;32m---> 15\u001b[0;31m                     \u001b[0mretval_\u001b[0m \u001b[0;34m=\u001b[0m \u001b[0mag__\u001b[0m\u001b[0;34m.\u001b[0m\u001b[0mconverted_call\u001b[0m\u001b[0;34m(\u001b[0m\u001b[0mag__\u001b[0m\u001b[0;34m.\u001b[0m\u001b[0mld\u001b[0m\u001b[0;34m(\u001b[0m\u001b[0mstep_function\u001b[0m\u001b[0;34m)\u001b[0m\u001b[0;34m,\u001b[0m \u001b[0;34m(\u001b[0m\u001b[0mag__\u001b[0m\u001b[0;34m.\u001b[0m\u001b[0mld\u001b[0m\u001b[0;34m(\u001b[0m\u001b[0mself\u001b[0m\u001b[0;34m)\u001b[0m\u001b[0;34m,\u001b[0m \u001b[0mag__\u001b[0m\u001b[0;34m.\u001b[0m\u001b[0mld\u001b[0m\u001b[0;34m(\u001b[0m\u001b[0miterator\u001b[0m\u001b[0;34m)\u001b[0m\u001b[0;34m)\u001b[0m\u001b[0;34m,\u001b[0m \u001b[0;32mNone\u001b[0m\u001b[0;34m,\u001b[0m \u001b[0mfscope\u001b[0m\u001b[0;34m)\u001b[0m\u001b[0;34m\u001b[0m\u001b[0;34m\u001b[0m\u001b[0m\n\u001b[0m\u001b[1;32m     16\u001b[0m                 \u001b[0;32mexcept\u001b[0m\u001b[0;34m:\u001b[0m\u001b[0;34m\u001b[0m\u001b[0;34m\u001b[0m\u001b[0m\n\u001b[1;32m     17\u001b[0m                     \u001b[0mdo_return\u001b[0m \u001b[0;34m=\u001b[0m \u001b[0;32mFalse\u001b[0m\u001b[0;34m\u001b[0m\u001b[0;34m\u001b[0m\u001b[0m\n",
            "\u001b[0;31mValueError\u001b[0m: in user code:\n\n    File \"/usr/local/lib/python3.10/dist-packages/keras/src/engine/training.py\", line 2440, in predict_function  *\n        return step_function(self, iterator)\n    File \"/usr/local/lib/python3.10/dist-packages/keras/src/engine/training.py\", line 2425, in step_function  **\n        outputs = model.distribute_strategy.run(run_step, args=(data,))\n    File \"/usr/local/lib/python3.10/dist-packages/keras/src/engine/training.py\", line 2413, in run_step  **\n        outputs = model.predict_step(data)\n    File \"/usr/local/lib/python3.10/dist-packages/keras/src/engine/training.py\", line 2381, in predict_step\n        return self(x, training=False)\n    File \"/usr/local/lib/python3.10/dist-packages/keras/src/utils/traceback_utils.py\", line 70, in error_handler\n        raise e.with_traceback(filtered_tb) from None\n    File \"/usr/local/lib/python3.10/dist-packages/keras/src/engine/input_spec.py\", line 219, in assert_input_compatibility\n        raise ValueError(\n\n    ValueError: Layer \"model_1\" expects 2 input(s), but it received 1 input tensors. Inputs received: [<tf.Tensor 'IteratorGetNext:0' shape=(None, 299, 299, 3) dtype=float32>]\n"
          ]
        }
      ]
    }
  ]
}